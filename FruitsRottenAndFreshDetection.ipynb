{
 "cells": [
  {
   "cell_type": "code",
   "execution_count": 2,
   "id": "ba816399",
   "metadata": {
    "scrolled": true
   },
   "outputs": [],
   "source": [
    "import os\n",
    "import tensorflow as tf\n",
    "from tensorflow import keras\n",
    "from tensorflow.keras.models import Sequential\n",
    "from tensorflow.keras import layers\n",
    "from tensorflow.keras.preprocessing.image import ImageDataGenerator"
   ]
  },
  {
   "cell_type": "code",
   "execution_count": 3,
   "id": "f8d3565f",
   "metadata": {},
   "outputs": [],
   "source": [
    "os.environ[\"CUDA_VISIBLE_DEVICES\"] = \"0\"\n",
    "\n",
    "base_path = \"Your/Dataset/path\" #https://www.kaggle.com/datasets/sriramr/fruits-fresh-and-rotten-for-classification\n",
    "train_path = base_path + \"train\"\n",
    "test_path = base_path + \"test\"\n",
    "BATCH_SIZE = 10\n",
    "EPOCHS = 20"
   ]
  },
  {
   "cell_type": "code",
   "execution_count": 4,
   "id": "bcd69a07",
   "metadata": {},
   "outputs": [
    {
     "name": "stdout",
     "output_type": "stream",
     "text": [
      "Found 10901 images belonging to 6 classes.\n",
      "Found 2700 images belonging to 6 classes.\n"
     ]
    }
   ],
   "source": [
    "train_ds = ImageDataGenerator(\n",
    "    preprocessing_function=tf.keras.applications.vgg16.preprocess_input,\n",
    "    rescale=1/255.,\n",
    "    horizontal_flip=True,\n",
    "    vertical_flip=True\n",
    ").flow_from_directory(\n",
    "    directory=train_path,\n",
    "    target_size=(20, 20),\n",
    "    classes=['freshapples', 'freshbananas', 'freshoranges', 'rottenapples', 'rottenbananas','rottenoranges'],\n",
    "    batch_size=BATCH_SIZE,\n",
    "    class_mode='categorical',\n",
    "    color_mode='rgb'\n",
    ")\n",
    "\n",
    "val_ds = ImageDataGenerator(\n",
    "    preprocessing_function=tf.keras.applications.vgg16.preprocess_input, rescale=1/255.\n",
    ").flow_from_directory(\n",
    "    directory=test_path,\n",
    "    target_size=(20, 20),\n",
    "    classes=['freshapples', 'freshbananas', 'freshoranges', 'rottenapples', 'rottenbananas','rottenoranges'],\n",
    "    batch_size=BATCH_SIZE,\n",
    "    class_mode='categorical',\n",
    "    color_mode='rgb',\n",
    "    shuffle=False\n",
    ")"
   ]
  },
  {
   "cell_type": "code",
   "execution_count": 5,
   "id": "37cf46d3",
   "metadata": {},
   "outputs": [],
   "source": [
    "model = Sequential()\n",
    "model.add(layers.Conv2D(32, (3, 3), activation=('relu'), input_shape=(20, 20, 3)))\n",
    "model.add(layers.MaxPooling2D((2, 2)))\n",
    "model.add(layers.Conv2D(64,(3,3), activation=('relu')))\n",
    "model.add(layers.MaxPooling2D(2,2))\n",
    "model.add(layers.Flatten())\n",
    "model.add(layers.Dense(128, activation=('relu')))\n",
    "model.add(layers.Dense(128, activation=('relu')))\n",
    "model.add(layers.Dense(6, activation=('softmax')))"
   ]
  },
  {
   "cell_type": "code",
   "execution_count": 6,
   "id": "454704ce",
   "metadata": {},
   "outputs": [
    {
     "name": "stdout",
     "output_type": "stream",
     "text": [
      "Epoch 1/20\n",
      "1091/1091 [==============================] - 49s 45ms/step - loss: 0.6104 - accuracy: 0.7707 - val_loss: 0.3151 - val_accuracy: 0.8948\n",
      "Epoch 2/20\n",
      "1091/1091 [==============================] - 49s 45ms/step - loss: 0.3244 - accuracy: 0.8839 - val_loss: 0.2690 - val_accuracy: 0.9067\n",
      "Epoch 3/20\n",
      "1091/1091 [==============================] - 50s 45ms/step - loss: 0.2484 - accuracy: 0.9096 - val_loss: 0.3063 - val_accuracy: 0.8841\n",
      "Epoch 4/20\n",
      "1091/1091 [==============================] - 47s 43ms/step - loss: 0.2151 - accuracy: 0.9242 - val_loss: 0.1926 - val_accuracy: 0.9337\n",
      "Epoch 5/20\n",
      "1091/1091 [==============================] - 48s 44ms/step - loss: 0.1858 - accuracy: 0.9315 - val_loss: 0.1983 - val_accuracy: 0.9304\n",
      "Epoch 6/20\n",
      "1091/1091 [==============================] - 48s 44ms/step - loss: 0.1639 - accuracy: 0.9395 - val_loss: 0.2174 - val_accuracy: 0.9200\n",
      "Epoch 7/20\n",
      "1091/1091 [==============================] - 49s 45ms/step - loss: 0.1449 - accuracy: 0.9484 - val_loss: 0.1356 - val_accuracy: 0.9533\n",
      "Epoch 8/20\n",
      "1091/1091 [==============================] - 48s 44ms/step - loss: 0.1269 - accuracy: 0.9545 - val_loss: 0.2323 - val_accuracy: 0.9259\n",
      "Epoch 9/20\n",
      "1091/1091 [==============================] - 47s 43ms/step - loss: 0.1189 - accuracy: 0.9590 - val_loss: 0.1032 - val_accuracy: 0.9604\n",
      "Epoch 10/20\n",
      "1091/1091 [==============================] - 46s 42ms/step - loss: 0.1013 - accuracy: 0.9637 - val_loss: 0.1169 - val_accuracy: 0.9637\n",
      "Epoch 11/20\n",
      "1091/1091 [==============================] - 46s 43ms/step - loss: 0.0985 - accuracy: 0.9625 - val_loss: 0.1171 - val_accuracy: 0.9604\n",
      "Epoch 12/20\n",
      "1091/1091 [==============================] - 48s 44ms/step - loss: 0.0911 - accuracy: 0.9685 - val_loss: 0.1138 - val_accuracy: 0.9633\n",
      "Epoch 13/20\n",
      "1091/1091 [==============================] - 48s 44ms/step - loss: 0.0916 - accuracy: 0.9664 - val_loss: 0.1375 - val_accuracy: 0.9578\n",
      "Epoch 14/20\n",
      "1091/1091 [==============================] - 47s 43ms/step - loss: 0.0688 - accuracy: 0.9749 - val_loss: 0.0947 - val_accuracy: 0.9693\n",
      "Epoch 15/20\n",
      "1091/1091 [==============================] - 47s 43ms/step - loss: 0.0818 - accuracy: 0.9735 - val_loss: 0.1147 - val_accuracy: 0.9593\n",
      "Epoch 16/20\n",
      "1091/1091 [==============================] - 47s 43ms/step - loss: 0.0653 - accuracy: 0.9758 - val_loss: 0.0996 - val_accuracy: 0.9667\n",
      "Epoch 17/20\n",
      "1091/1091 [==============================] - 47s 44ms/step - loss: 0.0609 - accuracy: 0.9781 - val_loss: 0.0888 - val_accuracy: 0.9689\n",
      "Epoch 18/20\n",
      "1091/1091 [==============================] - 48s 44ms/step - loss: 0.0551 - accuracy: 0.9800 - val_loss: 0.0730 - val_accuracy: 0.9796\n",
      "Epoch 19/20\n",
      "1091/1091 [==============================] - 48s 44ms/step - loss: 0.0509 - accuracy: 0.9827 - val_loss: 0.0589 - val_accuracy: 0.9793\n",
      "Epoch 20/20\n",
      "1091/1091 [==============================] - 47s 43ms/step - loss: 0.0651 - accuracy: 0.9778 - val_loss: 0.1114 - val_accuracy: 0.9678\n"
     ]
    }
   ],
   "source": [
    "model.compile(optimizer='adam', loss='categorical_crossentropy', metrics=['accuracy'])\n",
    "history = model.fit(train_ds, epochs=EPOCHS, validation_data=val_ds)"
   ]
  },
  {
   "cell_type": "code",
   "execution_count": 10,
   "id": "78f8f4f8",
   "metadata": {},
   "outputs": [
    {
     "data": {
      "image/png": "[encoded data removed]",
      "text/plain": [
       "<Figure size 432x288 with 1 Axes>"
      ]
     },
     "metadata": {
      "needs_background": "light"
     },
     "output_type": "display_data"
    }
   ],
   "source": [
    "from matplotlib import pyplot as plt\n",
    "plt.plot(history.history['accuracy'])\n",
    "plt.plot(history.history['val_accuracy'])\n",
    "plt.title('model accuracy')\n",
    "plt.ylabel('accuracy')\n",
    "plt.xlabel('epoch')\n",
    "plt.legend(['train', 'val'], loc='upper left')\n",
    "plt.show()"
   ]
  },
  {
   "cell_type": "code",
   "execution_count": 11,
   "id": "2d364bdc",
   "metadata": {},
   "outputs": [
    {
     "data": {
      "image/png": "[encoded data removed]",
      "text/plain": [
       "<Figure size 432x288 with 1 Axes>"
      ]
     },
     "metadata": {
      "needs_background": "light"
     },
     "output_type": "display_data"
    }
   ],
   "source": [
    "plt.plot(history.history['loss'])\n",
    "plt.plot(history.history['val_loss'])\n",
    "plt.title('model loss')\n",
    "plt.ylabel('loss')\n",
    "plt.xlabel('epoch')\n",
    "plt.legend(['train', 'val'], loc='upper left')\n",
    "plt.show()"
   ]
  },
  {
   "cell_type": "code",
   "execution_count": 29,
   "id": "e79c4501",
   "metadata": {},
   "outputs": [
    {
     "name": "stdout",
     "output_type": "stream",
     "text": [
      "1/1 [==============================] - 0s 22ms/step\n",
      "[[0. 0. 0. 1. 0. 0.]]\n",
      "Çürük Elma\n"
     ]
    }
   ],
   "source": [
    "import cv2\n",
    "import numpy as np\n",
    "img = cv2.imread('rottenApple.png')\n",
    "img = cv2.resize(img,(20,20))\n",
    "img = np.reshape(img,[1,20,20,3])\n",
    "\n",
    "classes = model.predict(img, batch_size=10)\n",
    "print(classes)\n",
    "prediction = ''\n",
    "\n",
    "if classes[0][0]==1:\n",
    "    prediction = 'Taze Elma'\n",
    "elif classes[0][1]==1:\n",
    "    prediction = 'Taze Muz'\n",
    "elif classes[0][2]==1:\n",
    "    prediction = 'Taze Portakal'\n",
    "elif classes[0][3]==1:\n",
    "    prediction = 'Çürük Elma'\n",
    "elif classes[0][4]==1:\n",
    "    prediction = 'Çürük Muz'\n",
    "elif classes[0][5]==1:\n",
    "    prediction = 'Çürük Portakal'\n",
    "\n",
    "print(prediction)"
   ]
  },
  {
   "cell_type": "code",
   "execution_count": 40,
   "id": "b2e7f4df",
   "metadata": {
    "scrolled": false
   },
   "outputs": [
    {
     "name": "stderr",
     "output_type": "stream",
     "text": [
      "C:\\Users\\ahmet\\AppData\\Local\\Temp\\ipykernel_6600\\532235350.py:3: UserWarning: `Model.predict_generator` is deprecated and will be removed in a future version. Please use `Model.predict`, which supports generators.\n",
      "  Y_pred = model.predict_generator(val_ds)\n"
     ]
    },
    {
     "name": "stdout",
     "output_type": "stream",
     "text": [
      "                precision    recall  f1-score   support\n",
      "\n",
      "     Taze_Elma       0.99      0.97      0.98       397\n",
      "      Taze_Muz       0.96      0.99      0.98       381\n",
      " Taze_Portakal       0.99      0.94      0.96       388\n",
      "    Çürük_Elma       0.95      0.97      0.96       601\n",
      "     Çürük_Muz       0.98      1.00      0.99       530\n",
      "Çürük_Portakal       0.94      0.93      0.93       403\n",
      "\n",
      "      accuracy                           0.97      2700\n",
      "     macro avg       0.97      0.97      0.97      2700\n",
      "  weighted avg       0.97      0.97      0.97      2700\n",
      "\n"
     ]
    },
    {
     "data": {
      "image/png": "[encoded data removed]",
      "text/plain": [
       "<Figure size 432x288 with 2 Axes>"
      ]
     },
     "metadata": {
      "needs_background": "light"
     },
     "output_type": "display_data"
    }
   ],
   "source": [
    "from sklearn.metrics import classification_report, confusion_matrix, ConfusionMatrixDisplay\n",
    "\n",
    "Y_pred = model.predict_generator(val_ds)\n",
    "y_pred = np.argmax(Y_pred, axis=1)\n",
    "\n",
    "target_names = ['Taze_Elma', 'Taze_Muz', 'Taze_Portakal', 'Çürük_Elma', 'Çürük_Muz','Çürük_Portakal']\n",
    "print(classification_report(val_ds.classes, y_pred, target_names=target_names))\n",
    "\n",
    "cm = confusion_matrix(val_ds.classes, y_pred)\n",
    "disp = ConfusionMatrixDisplay(confusion_matrix=cm, display_labels=val_ds.classes)\n",
    "disp.plot()\n",
    "plt.show()"
   ]
  }
 ],
 "metadata": {
  "kernelspec": {
   "display_name": "Python 3 (ipykernel)",
   "language": "python",
   "name": "python3"
  },
  "language_info": {
   "codemirror_mode": {
    "name": "ipython",
    "version": 3
   },
   "file_extension": ".py",
   "mimetype": "text/x-python",
   "name": "python",
   "nbconvert_exporter": "python",
   "pygments_lexer": "ipython3",
   "version": "3.10.4"
  }
 },
 "nbformat": 4,
 "nbformat_minor": 5
}
